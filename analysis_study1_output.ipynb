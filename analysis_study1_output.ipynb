{
  "cells": [
    {
      "cell_type": "code",
      "execution_count": null,
      "metadata": {
        "id": "fAUXk4_mI6i3"
      },
      "outputs": [],
      "source": [
        "import h5py\n",
        "import numpy as np\n",
        "import matplotlib.pyplot as plt\n",
        "from sklearn.linear_model import LinearRegression\n",
        "from scipy import stats\n",
        "\n",
        "BASE = './data'"
      ]
    },
    {
      "cell_type": "markdown",
      "metadata": {
        "id": "gNkmgLvyKERk"
      },
      "source": [
        "# Dino"
      ]
    },
    {
      "cell_type": "markdown",
      "metadata": {
        "id": "umqc1x7iAHoZ"
      },
      "source": [
        "## Load Dino Data & Averaging"
      ]
    },
    {
      "cell_type": "code",
      "execution_count": null,
      "metadata": {
        "id": "abRHSRgwJueY"
      },
      "outputs": [],
      "source": [
        "VERSION = '21080616'\n",
        "KEY = 'space'"
      ]
    },
    {
      "cell_type": "code",
      "execution_count": null,
      "metadata": {
        "id": "nf8HULCXNCMq"
      },
      "outputs": [],
      "source": [
        "reactiveness = np.full(20, np.nan)\n",
        "proactiveness = np.full(20, np.nan)\n",
        "\n",
        "react_weight = np.full(20, np.nan)\n",
        "proact_weight = np.full(20, np.nan)\n",
        "irrelevant_weight = np.full(20, np.nan)\n",
        "\n",
        "react_K = np.full(20, np.nan)\n",
        "react_lambda = np.full(20, np.nan)\n",
        "react_loc = np.full(20, np.nan)\n",
        "react_scale = np.full(20, np.nan)\n",
        "react_mean = np.full(20, np.nan)\n",
        "proact_loc = np.full(20, np.nan)\n",
        "proact_scale = np.full(20, np.nan)\n",
        "\n",
        "dsets = []\n",
        "for i in range(20):\n",
        "  path = f\"{BASE}/S{201+i}_{KEY}_{VERSION}.hdf5\"\n",
        "  f = h5py.File(path, 'r')\n",
        "  # print(f['w'].shape)\n",
        "  # weight\n",
        "  w = f['w'][:] \n",
        "  react_weight[i] = np.nanmean(w[:,:,0])\n",
        "  proact_weight[i] = np.nanmean(w[:,:,1])\n",
        "  irrelevant_weight[i] = np.nanmean(w[:,:,2])\n",
        "  reactiveness[i] = np.nanmean(w[:,:,0]/(w[:,:,0]+w[:,:,1]))\n",
        "  proactiveness[i] = np.nanmean(w[:,:,1]/(w[:,:,0]+w[:,:,1]))\n",
        "  # params\n",
        "  p = f['p'][:]\n",
        "  react_K[i] = np.nanmean(p[:,:,0])\n",
        "  react_mean[i] = np.nanmean(p[:,:,1]+p[:,:,0]*p[:,:,2])\n",
        "  react_loc[i] = np.nanmean(p[:,:,1])\n",
        "  react_scale[i] = np.nanmean(p[:,:,2])\n",
        "  react_lambda[i] = np.nanmean(1/(p[:,:,0]*p[:,:,2]))\n",
        "  proact_loc[i] = np.nanmean(p[:,:,3])\n",
        "  proact_scale[i] = np.nanmean(p[:,:,4])\n",
        "\n",
        "  dsets.append(f)"
      ]
    },
    {
      "cell_type": "code",
      "execution_count": null,
      "metadata": {
        "colab": {
          "base_uri": "https://localhost:8080/"
        },
        "id": "Ddie7Us_IZ8v",
        "outputId": "f02d1f6e-5d31-47c8-c5cb-808b97f0ebed"
      },
      "outputs": [
        {
          "name": "stdout",
          "output_type": "stream",
          "text": [
            "fitting time for each dataset: 4.562358948588371\n"
          ]
        }
      ],
      "source": [
        "total_time = [dsets[i]['total_time'] for i in range(20)]\n",
        "total_times = [dsets[i]['total_time'][()] for i in range(20)]\n",
        "print(f\"fitting time for each dataset: {np.mean(total_times)/60}\")"
      ]
    },
    {
      "cell_type": "markdown",
      "metadata": {
        "id": "1VAo_DmWN74Q"
      },
      "source": [
        "### FOR STATISTICAL TEST"
      ]
    },
    {
      "cell_type": "markdown",
      "metadata": {
        "id": "WSI6eUo2BIMq"
      },
      "source": [
        "1. Run Cell.\n",
        "2. Download 'dino.csv'.\n",
        "3. Copy and paste the contents on `.csv` file with Tabsonic 1 and 2 Data."
      ]
    },
    {
      "cell_type": "code",
      "execution_count": null,
      "metadata": {
        "id": "f40AXLzGK_gH"
      },
      "outputs": [],
      "source": [
        "a = np.vstack((np.arange(1,21),irrelevant_weight, reactiveness, react_mean, react_loc, proact_scale)).T\n",
        "np.savetxt(\"dino.csv\", a, delimiter=\",\")"
      ]
    },
    {
      "cell_type": "markdown",
      "metadata": {
        "id": "NO34HGqYDH_6"
      },
      "source": [
        "### Descriptive"
      ]
    },
    {
      "cell_type": "markdown",
      "metadata": {
        "id": "Lqa2UmCjBgTi"
      },
      "source": [
        "Average of the mean parameters."
      ]
    },
    {
      "cell_type": "code",
      "execution_count": null,
      "metadata": {
        "colab": {
          "base_uri": "https://localhost:8080/"
        },
        "id": "IvTceTWTCDNJ",
        "outputId": "b8afe90b-b6e6-4dda-bb8b-bce78b0e474a"
      },
      "outputs": [
        {
          "name": "stdout",
          "output_type": "stream",
          "text": [
            "irrelevant_weight 0.328, 0.027\n",
            "reactiveness 0.459, 0.021\n",
            "react_mean 0.357, 0.022\n",
            "proact_scale 0.088, 0.004\n"
          ]
        }
      ],
      "source": [
        "# print(f\"react_weight {react_weight.mean():.3f}, {react_weight.std():.3f}\")\n",
        "# print(f\"proact_weight {proact_weight.mean():.3f}, {proact_weight.std():.3f}\")\n",
        "print(f\"irrelevant_weight {irrelevant_weight.mean():.3f}, {irrelevant_weight.std():.3f}\")\n",
        "print(f\"reactiveness {reactiveness.mean():.3f}, {reactiveness.std():.3f}\")\n",
        "# print(f\"proactiveness {proactiveness.mean():.3f}, {proactiveness.std():.3f}\")\n",
        "# print(f\"react_lambda {react_lambda.mean():e}, {react_lambda.std():e}\")\n",
        "# print(f\"react_loc {react_loc.mean():.3f}, {react_loc.std():.3f}\")\n",
        "print(f\"react_mean {react_loc.mean():.3f}, {react_loc.std():.3f}\")\n",
        "# print(f\"react_scale {react_scale.mean():.3f}, {react_scale.std():.3f}\")\n",
        "# print(f\"proact_loc {proact_loc.mean():.3f}, {proact_loc.std():.3f}\")\n",
        "print(f\"proact_scale {proact_scale.mean():.3f}, {proact_scale.std():.3f}\")"
      ]
    },
    {
      "cell_type": "markdown",
      "metadata": {
        "id": "vdzZLi_gfl8L"
      },
      "source": [
        "### Heatmap"
      ]
    },
    {
      "cell_type": "markdown",
      "metadata": {
        "id": "qW1dJtx2cLjH"
      },
      "source": [
        "### Irrelevance Map"
      ]
    },
    {
      "cell_type": "code",
      "execution_count": null,
      "metadata": {
        "colab": {
          "base_uri": "https://localhost:8080/",
          "height": 322
        },
        "id": "rxtwXdUEb1UZ",
        "outputId": "c13e22d5-fb78-4b3c-9e0e-c9022bf8b799"
      },
      "outputs": [
        {
          "data": {
            "image/png": "[encoded data removed]",
            "text/plain": [
              "<Figure size 540x720 with 1 Axes>"
            ]
          },
          "metadata": {},
          "output_type": "display_data"
        }
      ],
      "source": [
        "irrelevance_map = np.full((33, 53), 0.0)\n",
        "for i in range(20):\n",
        "  path = f\"{BASE}/S{201+i}_{KEY}_{VERSION}.hdf5\"\n",
        "  f = h5py.File(path, 'r')\n",
        "\n",
        "  # weight\n",
        "  w = f['w'][:] \n",
        "  irr  = w[:,:,2]\n",
        "  s = irr.shape\n",
        "  irrelevance_map[:s[0], :s[1]] += irr\n",
        "\n",
        "fig, ax = plt.subplots(figsize=(3,4), dpi=180)\n",
        "irrelevance_map = irrelevance_map/20\n",
        "cax=ax.imshow(irrelevance_map, cmap='coolwarm', vmin=0, vmax=1)\n",
        "plt.xticks([])\n",
        "plt.yticks([])\n",
        "plt.show()"
      ]
    },
    {
      "cell_type": "markdown",
      "metadata": {
        "id": "gCm8oWiycIpC"
      },
      "source": [
        "### Reactiveness Map"
      ]
    },
    {
      "cell_type": "code",
      "execution_count": null,
      "metadata": {
        "colab": {
          "base_uri": "https://localhost:8080/",
          "height": 322
        },
        "id": "4wrWXk6vae_4",
        "outputId": "dc0fd3f2-75e7-4e77-f1ff-6678e017e336"
      },
      "outputs": [
        {
          "data": {
            "image/png": "[encoded data removed]",
            "text/plain": [
              "<Figure size 540x720 with 1 Axes>"
            ]
          },
          "metadata": {},
          "output_type": "display_data"
        }
      ],
      "source": [
        "react_map = np.full((33, 53), 0.0)\n",
        "for i in range(20):\n",
        "  path = f\"{BASE}/S{201+i}_{KEY}_{VERSION}.hdf5\"\n",
        "  f = h5py.File(path, 'r')\n",
        "\n",
        "  # weight\n",
        "  w = f['w'][:] \n",
        "  react = w[:,:,0] / (w[:,:,0] + w[:,:,1])\n",
        "  s = react.shape\n",
        "  react_map[:s[0], :s[1]] += react\n",
        "fig, ax = plt.subplots(figsize=(3,4), dpi=180)\n",
        "# ax.set_title(f\"{title}(S{201+i})\")\n",
        "react_map /= 20\n",
        "cax=ax.imshow(react_map, cmap='coolwarm', vmin=0, vmax=1)\n",
        "plt.xticks([])\n",
        "plt.yticks([])\n",
        "plt.show()"
      ]
    },
    {
      "cell_type": "markdown",
      "metadata": {
        "id": "dk_WfXZ_CkQP"
      },
      "source": [
        " Reactiveness map with $w_I$ less than 0.5"
      ]
    },
    {
      "cell_type": "code",
      "execution_count": null,
      "metadata": {
        "colab": {
          "base_uri": "https://localhost:8080/",
          "height": 322
        },
        "id": "eDSrf-4ksf5U",
        "outputId": "3c869152-5915-46da-d509-96e4d5dc741b"
      },
      "outputs": [
        {
          "data": {
            "image/png": "[encoded data removed]",
            "text/plain": [
              "<Figure size 540x720 with 1 Axes>"
            ]
          },
          "metadata": {},
          "output_type": "display_data"
        }
      ],
      "source": [
        "react_map = np.full((33, 53), 0.0)\n",
        "for i in range(20):\n",
        "  path = f\"{BASE}/S{201+i}_{KEY}_{VERSION}.hdf5\"\n",
        "  f = h5py.File(path, 'r')\n",
        "\n",
        "  # weight\n",
        "  w = f['w'][:] \n",
        "  react = w[:,:,0] / (w[:,:,0] + w[:,:,1])\n",
        "  react[w[:,:,2]>0.5] = np.nan\n",
        "  s = react.shape\n",
        "  react_map[:s[0], :s[1]] += react\n",
        "fig, ax = plt.subplots(figsize=(3,4), dpi=180)\n",
        "# ax.set_title(f\"{title}(S{201+i})\")\n",
        "react_map /= 20\n",
        "react_map[irrelevance_map >0.5] = np.nan\n",
        "cax=ax.imshow(react_map, cmap='coolwarm', vmin=0, vmax=1)\n",
        "plt.savefig(\"DINO_REACTMAP.png\")\n",
        "plt.xticks([])\n",
        "plt.yticks([])\n",
        "plt.show()"
      ]
    },
    {
      "cell_type": "markdown",
      "metadata": {
        "id": "-EpLMyZln31a"
      },
      "source": [
        "# Linear Regression"
      ]
    },
    {
      "cell_type": "code",
      "execution_count": null,
      "metadata": {
        "id": "vYZ3rsX4Kk63"
      },
      "outputs": [],
      "source": [
        "X = np.vstack((react_K, react_loc, react_scale,\n",
        "               proact_loc, proact_scale)).T\n",
        "\n",
        "y = np.array([1232.857, 528, 217.296, 549.615, 1304.428, 567.142, 930.888, 868.444, 1172.25, 636.75, 1133.909091, 851.8, 1948.8, 588.1666667, 679.5454545, 1950.8, 1546, 1639.833333, 2759.2, 949.4444444])"
      ]
    },
    {
      "cell_type": "code",
      "execution_count": null,
      "metadata": {
        "colab": {
          "base_uri": "https://localhost:8080/"
        },
        "id": "g9LnTdHNLyJ9",
        "outputId": "8fbfa0b2-d920-42c0-c939-b9d9dd010635"
      },
      "outputs": [
        {
          "name": "stdout",
          "output_type": "stream",
          "text": [
            "score : 0.5223781595729258\n"
          ]
        }
      ],
      "source": [
        "reg = LinearRegression().fit(X, y)\n",
        "r_square = reg.score(X, y)\n",
        "print(\"score : {}\".format(r_square))"
      ]
    },
    {
      "cell_type": "code",
      "execution_count": null,
      "metadata": {
        "colab": {
          "base_uri": "https://localhost:8080/",
          "height": 502
        },
        "id": "29Nptw_AYXgJ",
        "outputId": "dc0502f1-3ae5-4566-d8c7-6ac7d4cb687b"
      },
      "outputs": [
        {
          "data": {
            "image/png": "[encoded data removed]",
            "text/plain": [
              "<Figure size 540x540 with 1 Axes>"
            ]
          },
          "metadata": {
            "needs_background": "light"
          },
          "output_type": "display_data"
        }
      ],
      "source": [
        "predicted_scores = (X * reg.coef_).sum(axis=1) + reg.intercept_\n",
        "fig = plt.figure(figsize=(3, 3),dpi=180)\n",
        "ax1 = fig.add_subplot(111)\n",
        "ax1.plot(y, y, color='gray', alpha=0.3)\n",
        "ax1.scatter(predicted_scores, y, label=f\"$R^2:{r_square:.2f}$\", color='black')\n",
        "# ax1.set_xlabel(\"Predicted Score\")\n",
        "# ax1.set_ylabel(\"Mean Score\")\n",
        "# plt.legend(loc='lower right')\n",
        "plt.xticks([500, 1500, 2500])\n",
        "plt.yticks([500, 1500, 2500])\n",
        "plt.savefig('study1_dino_linearregression.svg')\n",
        "plt.show()"
      ]
    },
    {
      "cell_type": "code",
      "execution_count": null,
      "metadata": {
        "colab": {
          "base_uri": "https://localhost:8080/"
        },
        "id": "dbwOoKxyTt8c",
        "outputId": "a100e22f-c62b-4604-c194-b80a559bf891"
      },
      "outputs": [
        {
          "name": "stdout",
          "output_type": "stream",
          "text": [
            "-2.18\n",
            "-12140.08\n",
            "-4314.98\n",
            "2820.24\n",
            "-54755.08\n"
          ]
        }
      ],
      "source": [
        "for i in reg.coef_:\n",
        "  print(f\"{i:.2f}\")"
      ]
    },
    {
      "cell_type": "code",
      "execution_count": null,
      "metadata": {
        "colab": {
          "base_uri": "https://localhost:8080/"
        },
        "id": "zOSOvCnAU3fR",
        "outputId": "88d48d80-ef27-4ef7-a387-a3585a71a165"
      },
      "outputs": [
        {
          "data": {
            "text/plain": [
              "11232.646714059198"
            ]
          },
          "execution_count": 30,
          "metadata": {},
          "output_type": "execute_result"
        }
      ],
      "source": [
        "reg.intercept_"
      ]
    },
    {
      "cell_type": "markdown",
      "metadata": {
        "id": "Wqgj5a9blEQC"
      },
      "source": [
        "## Pearson Correlation"
      ]
    },
    {
      "cell_type": "code",
      "execution_count": null,
      "metadata": {
        "colab": {
          "base_uri": "https://localhost:8080/"
        },
        "id": "FWIi8-VpkE4O",
        "outputId": "df703c55-901e-408a-8a3d-cf78c37fe69e"
      },
      "outputs": [
        {
          "name": "stdout",
          "output_type": "stream",
          "text": [
            "reactiveness \t\t (-0.4039098834456993, 0.0773662707241814)\n",
            "proactiveness \t\t (0.4039098834456998, 0.0773662707241811)\n",
            "react_K \t\t (0.10094348156224975, 0.6719670068093063)\n",
            "react_loc* \t\t (-0.37407590485207054, 0.10420010358787443)\n",
            "react_scale \t\t (-0.09416736274258854, 0.6929222608614448)\n",
            "proact_loc \t\t (0.7032458080186367, 0.0005421976151932345)\n",
            "proact_scale* \t\t (-0.01316345360530575, 0.9560744976801521)\n"
          ]
        }
      ],
      "source": [
        "print('reactiveness \\t\\t', stats.pearsonr(reactiveness, y))\n",
        "print('proactiveness \\t\\t', stats.pearsonr(proactiveness, y))\n",
        "print('react_K \\t\\t', stats.pearsonr(react_K, y))\n",
        "print('react_loc* \\t\\t', stats.pearsonr(react_loc, y))\n",
        "print('react_scale \\t\\t', stats.pearsonr(react_scale, y))\n",
        "print('proact_loc \\t\\t', stats.pearsonr(proact_loc, y))\n",
        "print('proact_scale* \\t\\t', stats.pearsonr(proact_scale, y))"
      ]
    },
    {
      "cell_type": "markdown",
      "metadata": {
        "id": "IrUqK6NzYt1m"
      },
      "source": [
        "# Tabsonic"
      ]
    },
    {
      "cell_type": "code",
      "execution_count": null,
      "metadata": {
        "id": "zWNzqhdycIG-"
      },
      "outputs": [],
      "source": [
        "VERSION = '21080616'\n",
        "KEY = 'all'\n",
        "\n",
        "reactiveness = np.full((20, 2), np.nan)\n",
        "proactiveness = np.full((20, 2), np.nan)\n",
        "\n",
        "react_weight = np.full((20, 2), np.nan)\n",
        "proact_weight = np.full((20, 2), np.nan)\n",
        "irrelevant_weight = np.full((20, 2), np.nan)\n",
        "\n",
        "react_K = np.full((20, 2), np.nan)\n",
        "react_loc = np.full((20, 2), np.nan)\n",
        "react_scale = np.full((20, 2), np.nan)\n",
        "react_lambda = np.full((20,2), np.nan)\n",
        "react_mean = np.full((20,2), np.nan)\n",
        "proact_loc = np.full((20, 2), np.nan)\n",
        "proact_scale = np.full((20, 2), np.nan)\n",
        "\n",
        "dsets=[]\n",
        "\n",
        "for i in range(20):\n",
        "  for j, sound in enumerate(['X', 'O']):\n",
        "\n",
        "      path = f\"{BASE}/S{201+i}_{sound}_{KEY}_{VERSION}.hdf5\"\n",
        "      f = h5py.File(path, 'r')\n",
        "\n",
        "      # weight\n",
        "      w = f['w'][:] \n",
        "      react_weight[i,j] = np.nanmean(w[:,:,0])\n",
        "      proact_weight[i,j] = np.nanmean(w[:,:,1])\n",
        "      irrelevant_weight[i,j] = np.nanmean(w[:,:,2])\n",
        "      reactiveness[i,j] = np.nanmean(w[:,:,0] / (w[:,:,0]+w[:,:,1]))\n",
        "      proactiveness[i,j] = np.nanmean(w[:,:,1] / (w[:,:,0]+w[:,:,1]))\n",
        "\n",
        "      # params\n",
        "      p = f['p'][:]\n",
        "      react_K[i,j] = np.nanmean(p[:,:,0] )\n",
        "      react_lambda[i,j] = np.nanmean(1/(p[:,:,0]*p[:,:,2]))\n",
        "      react_mean[i,j] = np.nanmean(p[:,:,1]+p[:,:,0]*p[:,:,2])\n",
        "      react_loc[i,j] = np.nanmean(p[:,:,1])\n",
        "      react_scale[i,j] = np.nanmean(p[:,:,2])\n",
        "      proact_loc[i,j] = np.nanmean(p[:,:,3])\n",
        "      proact_scale[i,j] = np.nanmean(p[:,:,4])\n",
        "\n",
        "      dsets.append(f)"
      ]
    },
    {
      "cell_type": "code",
      "execution_count": null,
      "metadata": {
        "id": "eDLXoMmJK1bB"
      },
      "outputs": [],
      "source": [
        "a = np.vstack((np.arange(1,21),irrelevant_weight[:,1], reactiveness[:,1], react_mean[:,1], react_loc[:,1], proact_scale[:,1])).T\n",
        "np.savetxt(\"tasonic1.csv\", a, delimiter=\",\")\n",
        "\n",
        "a = np.vstack((np.arange(1,21),irrelevant_weight[:,0], reactiveness[:,0], react_mean[:,0], react_loc[:,0], proact_scale[:,0])).T\n",
        "np.savetxt(\"tasonic2.csv\", a, delimiter=\",\")"
      ]
    },
    {
      "cell_type": "code",
      "execution_count": null,
      "metadata": {
        "id": "PYHWvz8oLzBy"
      },
      "outputs": [],
      "source": [
        "total_time = [dsets[i]['total_time'] for i in range(len(dsets))]\n",
        "total_times = [dsets[i]['total_time'][()] for i in range(len(dsets))]\n",
        "print(f\"fitting time for each dataset: {np.mean(total_times)/60}\")"
      ]
    },
    {
      "cell_type": "code",
      "execution_count": null,
      "metadata": {
        "colab": {
          "base_uri": "https://localhost:8080/"
        },
        "id": "Gu8BQTUCSfaH",
        "outputId": "f65a5e7d-97a7-4bed-a52d-fe3476bb3de2"
      },
      "outputs": [
        {
          "name": "stdout",
          "output_type": "stream",
          "text": [
            "WITH SOUND\n",
            "irrelevant_weight 0.786, 0.023\n",
            "reactiveness 0.589, 0.050\n",
            "react_mean 0.835, 0.199\n",
            "proact_scale 0.101, 0.016\n",
            "\n",
            "WITHOUT SOUND\n",
            "irrelevant_weight 0.783, 0.022\n",
            "reactiveness 0.578, 0.058\n",
            "react_mean 0.847, 0.204\n",
            "proact_scale 0.106, 0.019\n"
          ]
        }
      ],
      "source": [
        "print(\"WITH SOUND\")\n",
        "print(f\"irrelevant_weight {irrelevant_weight[:,1].mean():.3f}, {irrelevant_weight[:,1].std():.3f}\")\n",
        "print(f\"reactiveness {reactiveness[:,1].mean():.3f}, {reactiveness[:,1].std():.3f}\")\n",
        "print(f\"react_mean {react_mean[:,1].mean():.3f}, {react_mean[:,1].std():.3f}\")\n",
        "print(f\"proact_scale {proact_scale[:,1].mean():.3f}, {proact_scale[:,1].std():.3f}\")\n",
        "\n",
        "print(\"\")\n",
        "print(\"WITHOUT SOUND\")\n",
        "print(f\"irrelevant_weight {irrelevant_weight[:,0].mean():.3f}, {irrelevant_weight[:,0].std():.3f}\")\n",
        "print(f\"reactiveness {reactiveness[:,0].mean():.3f}, {reactiveness[:,0].std():.3f}\")\n",
        "print(f\"react_mean {react_mean[:,0].mean():.3f}, {react_mean[:,0].std():.3f}\")\n",
        "print(f\"proact_scale {proact_scale[:,0].mean():.3f}, {proact_scale[:,0].std():.3f}\")"
      ]
    },
    {
      "cell_type": "markdown",
      "metadata": {
        "id": "KBNeRN92lqi-"
      },
      "source": [
        "### Heatmap"
      ]
    },
    {
      "cell_type": "code",
      "execution_count": null,
      "metadata": {
        "id": "gYB6n6WLlqJZ"
      },
      "outputs": [],
      "source": [
        "KEY = 'all'\n",
        "\n",
        "react_with_sound = np.zeros((33, 53))\n",
        "react_without_sound = np.zeros((33, 53))\n",
        "irr = np.zeros((33, 53))\n",
        "\n",
        "for i in range(20):\n",
        "  for j, sound in enumerate(['X', 'O']):\n",
        "\n",
        "      path = f\"{BASE}/S{201+i}_{sound}_{KEY}_{VERSION}.hdf5\"\n",
        "      f = h5py.File(path, 'r')\n",
        "\n",
        "      # weight\n",
        "      w = f['w'][:] \n",
        "      react = w[:,:,0] / (w[:,:,0] + w[:,:,1])\n",
        "      irr[:w.shape[0], :w.shape[1]] += w[:,:,2]\n",
        "      \n",
        "      if sound == 'O':\n",
        "        react_with_sound[:w.shape[0], :w.shape[1]] += react\n",
        "      else:\n",
        "        react_without_sound[:w.shape[0], :w.shape[1]] += react\n",
        "\n",
        "react_with_sound /= 20\n",
        "react_without_sound /= 20\n",
        "irr /= 40\n",
        "\n",
        "fig, ax = plt.subplots(figsize=(3,4), dpi=180)\n",
        "title = \"best player\" if i==18 else \"worst player\"\n",
        "ax.set_title(f\"with sound\")\n",
        "cax=ax.imshow(react_with_sound, cmap='coolwarm', vmin=0, vmax=1)\n",
        "cbar=fig.colorbar(cax, ticks=[0, 0.01, 0.5, 0.99, 1], orientation='horizontal')\n",
        "cbar.ax.set_xticklabels(['','Proactive' ,'', 'Reactive',''])\n",
        "plt.show()\n",
        "\n",
        "fig, ax = plt.subplots(figsize=(3,4), dpi=180)\n",
        "title = \"best player\" if i==18 else \"worst player\"\n",
        "ax.set_title(f\"without sound\")\n",
        "cax=ax.imshow(react_without_sound, cmap='coolwarm', vmin=0, vmax=1)\n",
        "cbar=fig.colorbar(cax, ticks=[0, 0.01, 0.5, 0.99, 1], orientation='horizontal')\n",
        "cbar.ax.set_xticklabels(['','Proactive' ,'', 'Reactive',''])\n",
        "plt.show()\n",
        "\n",
        "fig, ax = plt.subplots(figsize=(3,4), dpi=180)\n",
        "title = \"best player\" if i==18 else \"worst player\"\n",
        "ax.set_title(f\"irrelevant\")\n",
        "cax=ax.imshow(irr, cmap='coolwarm', vmin=0, vmax=1)\n",
        "fig.colorbar(cax, orientation='horizontal')\n",
        "plt.show()"
      ]
    },
    {
      "cell_type": "code",
      "execution_count": null,
      "metadata": {
        "id": "BGjWW3SddafP"
      },
      "outputs": [],
      "source": [
        "SOUND='O'\n",
        "\n",
        "react_map = np.full((33, 53), 0.0)\n",
        "for i in range(20):\n",
        "  path = f\"{BASE}/S{201+i}_{SOUND}_{KEY}_{VERSION}.hdf5\"\n",
        "  f = h5py.File(path, 'r')\n",
        "\n",
        "  # weight\n",
        "  w = f['w'][:] \n",
        "  react = w[:,:,0] / (w[:,:,0] + w[:,:,1])\n",
        "  s = react.shape\n",
        "  react_map[:s[0], :s[1]] += react\n",
        "fig, ax = plt.subplots(figsize=(3,4), dpi=180)\n",
        "# ax.set_title(f\"{title}(S{201+i})\")\n",
        "react_map /= 20\n",
        "react_map[react_map == 0] = np.nan\n",
        "cax=ax.imshow(react_map, cmap='coolwarm', vmin=0, vmax=1)\n",
        "plt.savefig(\"TABSONIC1_REACTMAP.png\")\n",
        "plt.xticks([])\n",
        "plt.yticks([])\n",
        "plt.show()\n",
        "irrelevance_map = np.full((33, 53), 0.0)\n",
        "\n",
        "for i in range(20):\n",
        "  path = f\"{BASE}/S{201+i}_{SOUND}_{KEY}_{VERSION}.hdf5\"\n",
        "  f = h5py.File(path, 'r')\n",
        "\n",
        "  # weight\n",
        "  w = f['w'][:] \n",
        "  irr  = w[:,:,2]\n",
        "  s = irr.shape\n",
        "  irrelevance_map[:s[0], :s[1]] += irr\n",
        "fig, ax = plt.subplots(figsize=(3,4), dpi=180)\n",
        "# ax.set_title(f\"{title}(S{201+i})\")\n",
        "irrelevance_map /= 20\n",
        "irrelevance_map[irrelevance_map==0] = np.nan\n",
        "cax=ax.imshow(irrelevance_map, cmap='coolwarm', vmin=0, vmax=1)\n",
        "plt.savefig(f\"TABSONIC1_IRRMAP.png\")\n",
        "plt.xticks([])\n",
        "plt.yticks([])\n",
        "plt.show()\n",
        "\n",
        "###\n",
        "react_map = np.full((33, 53), 0.0)\n",
        "for i in range(20):\n",
        "  path = f\"{BASE}/S{201+i}_{SOUND}_{KEY}_{VERSION}.hdf5\"\n",
        "  f = h5py.File(path, 'r')\n",
        "\n",
        "  # weight\n",
        "  w = f['w'][:] \n",
        "  react = w[:,:,0] / (w[:,:,0] + w[:,:,1])\n",
        "  s = react.shape\n",
        "  react_map[:s[0], :s[1]] += react\n",
        "fig, ax = plt.subplots(figsize=(3,4), dpi=180)\n",
        "# ax.set_title(f\"{title}(S{201+i})\")\n",
        "react_map /= 20\n",
        "react_map[react_map == 0] = np.nan\n",
        "react_map[irrelevance_map>0.5] = np.nan\n",
        "cax=ax.imshow(react_map, cmap='coolwarm', vmin=0, vmax=1)\n",
        "plt.savefig(\"TABSONIC1_REACTMAP05.png\")\n",
        "plt.xticks([])\n",
        "plt.yticks([])\n",
        "plt.show()\n",
        "irrelevance_map = np.full((33, 53), 0.0)\n"
      ]
    },
    {
      "cell_type": "code",
      "execution_count": null,
      "metadata": {
        "id": "oAnU4B4qd6md"
      },
      "outputs": [],
      "source": [
        "SOUND='X'\n",
        "\n",
        "react_map = np.full((33, 53), 0.0)\n",
        "for i in range(20):\n",
        "  path = f\"{BASE}/S{201+i}_{SOUND}_{KEY}_{VERSION}.hdf5\"\n",
        "  f = h5py.File(path, 'r')\n",
        "\n",
        "  # weight\n",
        "  w = f['w'][:] \n",
        "  react = w[:,:,0] / (w[:,:,0] + w[:,:,1])\n",
        "  s = react.shape\n",
        "  react_map[:s[0], :s[1]] += react\n",
        "fig, ax = plt.subplots(figsize=(3,4), dpi=180)\n",
        "react_map /= 20\n",
        "react_map[react_map == 0] = np.nan\n",
        "cax=ax.imshow(react_map, cmap='coolwarm', vmin=0, vmax=1)\n",
        "plt.savefig(\"TABSONIC2_REACTMAP.png\")\n",
        "plt.xticks([])\n",
        "plt.yticks([])\n",
        "plt.show()\n",
        "irrelevance_map = np.full((33, 53), 0.0)\n",
        "\n",
        "for i in range(20):\n",
        "  path = f\"{BASE}/S{201+i}_{SOUND}_{KEY}_{VERSION}.hdf5\"\n",
        "  f = h5py.File(path, 'r')\n",
        "\n",
        "  # weight\n",
        "  w = f['w'][:] \n",
        "  irr  = w[:,:,2]\n",
        "  s = irr.shape\n",
        "  irrelevance_map[:s[0], :s[1]] += irr\n",
        "fig, ax = plt.subplots(figsize=(3,4), dpi=180)\n",
        "irrelevance_map /= 20\n",
        "irrelevance_map[irrelevance_map==0] = np.nan\n",
        "cax=ax.imshow(irrelevance_map, cmap='coolwarm', vmin=0, vmax=1)\n",
        "plt.savefig(f\"TABSONIC2_IRRMAP.png\")\n",
        "plt.xticks([])\n",
        "plt.yticks([])\n",
        "plt.show()\n",
        "\n",
        "react_map = np.full((33, 53), 0.0)\n",
        "for i in range(20):\n",
        "  path = f\"{BASE}/S{201+i}_{SOUND}_{KEY}_{VERSION}.hdf5\"\n",
        "  f = h5py.File(path, 'r')\n",
        "\n",
        "  # weight\n",
        "  w = f['w'][:] \n",
        "  react = w[:,:,0] / (w[:,:,0] + w[:,:,1])\n",
        "  s = react.shape\n",
        "  react_map[:s[0], :s[1]] += react\n",
        "fig, ax = plt.subplots(figsize=(3,4), dpi=180)\n",
        "react_map /= 20\n",
        "react_map[react_map == 0] = np.nan\n",
        "react_map[irrelevance_map > 0.5] = np.nan\n",
        "cax=ax.imshow(react_map, cmap='coolwarm', vmin=0, vmax=1)\n",
        "plt.savefig(\"TABSONIC2_REACTMAP05.png\")\n",
        "plt.xticks([])\n",
        "plt.yticks([])\n",
        "plt.show()\n",
        "irrelevance_map = np.full((33, 53), 0.0)\n"
      ]
    },
    {
      "cell_type": "markdown",
      "metadata": {
        "id": "znr7kxzuoI9A"
      },
      "source": [
        "## Linear Regression"
      ]
    },
    {
      "cell_type": "code",
      "execution_count": null,
      "metadata": {
        "id": "6h4HK7RMoTX1"
      },
      "outputs": [],
      "source": [
        "score_with_sound = \\\n",
        "[379170,333480,334060,262260,406930,\\\n",
        "361240,374380,383020,390460,369800,\\\n",
        "401390,380590,363950,370190,363910,\\\n",
        "361940,388020,377140,395510,406120]\n",
        "\n",
        "score_without_sound = \\\n",
        "[350480,338350,331770,302600,400010,\\\n",
        "324990,357210,349710,368790,352220,\\\n",
        "397230,346820,376570,360710,357400,\\\n",
        "349190,330040,334950,370340,359880]"
      ]
    },
    {
      "cell_type": "markdown",
      "metadata": {
        "id": "O0eg2d-pvIcW"
      },
      "source": [
        "#### Without Sound"
      ]
    },
    {
      "cell_type": "code",
      "execution_count": null,
      "metadata": {
        "colab": {
          "base_uri": "https://localhost:8080/",
          "height": 519
        },
        "id": "F7TZFnZunoJr",
        "outputId": "30219455-aa3c-4dad-d2f7-aa28aa9fb220"
      },
      "outputs": [
        {
          "name": "stdout",
          "output_type": "stream",
          "text": [
            "score : 0.6485487043193396\n"
          ]
        },
        {
          "data": {
            "image/png": "[encoded data removed]",
            "text/plain": [
              "<Figure size 540x540 with 1 Axes>"
            ]
          },
          "metadata": {
            "needs_background": "light"
          },
          "output_type": "display_data"
        }
      ],
      "source": [
        "X = np.vstack((react_K[:,0], react_loc[:,0], react_scale[:,0],\n",
        "               proact_loc[:,0], proact_scale[:,0])).T\n",
        "y = score_without_sound\n",
        "reg = LinearRegression().fit(X, y)\n",
        "r_square = reg.score(X, y)\n",
        "print(\"score : {}\".format(r_square))\n",
        "\n",
        "predicted_scores = (X * reg.coef_).sum(axis=1) + reg.intercept_\n",
        "fig = plt.figure(figsize=(3, 3),dpi=180)\n",
        "ax1 = fig.add_subplot(111)\n",
        "ax1.plot([0, np.max(y)*1.05], [0, np.max(y)*1.05], color='gray', alpha=0.3)\n",
        "ax1.scatter(predicted_scores, y, label=f\"$R^2:{r_square:.2f}$\", color='black')\n",
        "# ax1.set_xlabel(\"Predicted Score\")\n",
        "# ax1.set_ylabel(\"Mean Score\")\n",
        "ax1.set_ylim(200000)\n",
        "ax1.set_xlim(200000)\n",
        "ax1.set_yticks([240000, 320000, 400000])\n",
        "ax1.set_xticks([240000, 320000, 400000])\n",
        "# plt.legend(loc='lower right')\n",
        "plt.savefig('study1_dino_linearregression.svg')\n",
        "plt.show()"
      ]
    },
    {
      "cell_type": "code",
      "execution_count": null,
      "metadata": {
        "colab": {
          "base_uri": "https://localhost:8080/"
        },
        "id": "VTklBDpeVJ9v",
        "outputId": "94f66d2a-c1a6-438c-974d-8f3424e04c54"
      },
      "outputs": [
        {
          "data": {
            "text/plain": [
              "array([  -29094.14885524,   449050.45585272,  5335190.46887094,\n",
              "        -413940.65227196, -7727457.78570396])"
            ]
          },
          "execution_count": 44,
          "metadata": {},
          "output_type": "execute_result"
        }
      ],
      "source": [
        "reg.coef_"
      ]
    },
    {
      "cell_type": "code",
      "execution_count": null,
      "metadata": {
        "colab": {
          "base_uri": "https://localhost:8080/"
        },
        "id": "2LVrbGetVNfl",
        "outputId": "78c459d3-a59c-4f95-81b8-1cc2179b528c"
      },
      "outputs": [
        {
          "data": {
            "text/plain": [
              "206790.08321447825"
            ]
          },
          "execution_count": 45,
          "metadata": {},
          "output_type": "execute_result"
        }
      ],
      "source": [
        "reg.intercept_"
      ]
    },
    {
      "cell_type": "markdown",
      "metadata": {
        "id": "atLQAFZhvLO1"
      },
      "source": [
        "#### With Sound"
      ]
    },
    {
      "cell_type": "code",
      "execution_count": null,
      "metadata": {
        "colab": {
          "base_uri": "https://localhost:8080/",
          "height": 519
        },
        "id": "mhiOqJcpo4Ij",
        "outputId": "bf09fc97-6e75-4cec-a41e-3ce46002d992"
      },
      "outputs": [
        {
          "name": "stdout",
          "output_type": "stream",
          "text": [
            "score : 0.6983240758533188\n"
          ]
        },
        {
          "data": {
            "image/png": "[encoded data removed]",
            "text/plain": [
              "<Figure size 540x540 with 1 Axes>"
            ]
          },
          "metadata": {
            "needs_background": "light"
          },
          "output_type": "display_data"
        }
      ],
      "source": [
        "X = np.vstack((react_K[:,1], react_loc[:,1], react_scale[:,1],\n",
        "               proact_loc[:,1], proact_scale[:,1])).T\n",
        "y = score_with_sound\n",
        "reg = LinearRegression().fit(X, y)\n",
        "r_square = reg.score(X, y)\n",
        "print(\"score : {}\".format(r_square))\n",
        "\n",
        "predicted_scores = (X * reg.coef_).sum(axis=1) + reg.intercept_\n",
        "fig = plt.figure(figsize=(3, 3),dpi=180)\n",
        "ax1 = fig.add_subplot(111)\n",
        "ax1.plot([0, np.max(y)*1.05], [0, np.max(y)*1.05], color='gray', alpha=0.3)\n",
        "ax1.scatter(predicted_scores, y, label=f\"$R^2:{r_square:.2f}$\", color='black')\n",
        "ax1.set_ylim(200000)\n",
        "ax1.set_xlim(200000)\n",
        "ax1.set_yticks([240000, 320000, 400000])\n",
        "ax1.set_xticks([240000, 320000, 400000])\n",
        "# plt.legend(loc='lower right')\n",
        "plt.savefig('study1_dino_linearregression.svg')\n",
        "plt.show()"
      ]
    },
    {
      "cell_type": "code",
      "execution_count": null,
      "metadata": {
        "colab": {
          "base_uri": "https://localhost:8080/"
        },
        "id": "RzhZORv3VQye",
        "outputId": "67fe377f-279f-469e-ad1d-a1fa689c353d"
      },
      "outputs": [
        {
          "data": {
            "text/plain": [
              "array([  -13883.03722633,   428997.00951958,  4049224.72427321,\n",
              "          57906.84033062, -6430104.12430658])"
            ]
          },
          "execution_count": 50,
          "metadata": {},
          "output_type": "execute_result"
        }
      ],
      "source": [
        "reg.coef_"
      ]
    },
    {
      "cell_type": "code",
      "execution_count": null,
      "metadata": {
        "colab": {
          "base_uri": "https://localhost:8080/"
        },
        "id": "hFeE0hvPVRUl",
        "outputId": "1723a301-9167-4786-e690-49fb49c28cea"
      },
      "outputs": [
        {
          "data": {
            "text/plain": [
              "302917.108253791"
            ]
          },
          "execution_count": 51,
          "metadata": {},
          "output_type": "execute_result"
        }
      ],
      "source": [
        "reg.intercept_"
      ]
    },
    {
      "cell_type": "markdown",
      "metadata": {
        "id": "_UrJ2UfqvCcg"
      },
      "source": [
        "### T-Test"
      ]
    },
    {
      "cell_type": "code",
      "execution_count": null,
      "metadata": {
        "colab": {
          "base_uri": "https://localhost:8080/"
        },
        "id": "0hz4_SmOpv43",
        "outputId": "8cd4fbdc-6301-4bca-ed9a-583aefd8501f"
      },
      "outputs": [
        {
          "name": "stdout",
          "output_type": "stream",
          "text": [
            "reactiveness \t\t Ttest_relResult(statistic=0.37966149432432894, pvalue=0.7084070256668313)\n",
            "proact_weight \t\t Ttest_relResult(statistic=-0.3796614943243282, pvalue=0.7084070256668318)\n",
            "react_weight \t\t Ttest_relResult(statistic=0.4499003439251415, pvalue=0.6578731091251602)\n",
            "proact_weight \t\t Ttest_relResult(statistic=-0.13887761474361654, pvalue=0.8910082923093056)\n",
            "irrelevant_weight \t Ttest_relResult(statistic=-0.43096630559982557, pvalue=0.671342612170519)\n",
            "react_K \t\t Ttest_relResult(statistic=-0.7245027557381357, pvalue=0.47758482601037666)\n",
            "react_loc \t\t Ttest_relResult(statistic=0.2633287116308602, pvalue=0.795131805107951)\n",
            "react_sigma \t\t Ttest_relResult(statistic=-0.6713430276223524, pvalue=0.510082486703759)\n",
            "proact_loc \t\t Ttest_relResult(statistic=0.42737595745423645, pvalue=0.6739098522525255)\n",
            "proact_scale \t\t Ttest_relResult(statistic=0.7512975545812299, pvalue=0.4616786876521407)\n"
          ]
        }
      ],
      "source": [
        "print(\"reactiveness \\t\\t\", stats.ttest_rel(reactiveness[:,0], reactiveness[:,1]))\n",
        "print(\"proact_weight \\t\\t\", stats.ttest_rel(proactiveness[:,0], proactiveness[:,1]))\n",
        "print(\"react_weight \\t\\t\", stats.ttest_rel(react_weight[:,0], react_weight[:,1]))\n",
        "print(\"proact_weight \\t\\t\", stats.ttest_rel(proact_weight[:,0], proact_weight[:,1]))\n",
        "print(\"irrelevant_weight \\t\", stats.ttest_rel(irrelevant_weight[:,0], irrelevant_weight[:,1]))\n",
        "print(\"react_K \\t\\t\", stats.ttest_rel(react_K[:,0], react_K[:,1]))\n",
        "print(\"react_loc \\t\\t\", stats.ttest_rel(react_loc[:,0], react_loc[:,1]))\n",
        "print(\"react_sigma \\t\\t\", stats.ttest_rel(react_scale[:,0], react_scale[:,1]))\n",
        "print(\"proact_loc \\t\\t\", stats.ttest_rel(proact_loc[:,0], proact_loc[:,1]))\n",
        "print(\"proact_scale \\t\\t\", stats.ttest_rel(proact_scale[:,0], proact_scale[:,1]))\n"
      ]
    },
    {
      "cell_type": "markdown",
      "metadata": {
        "id": "hoPzGUnFu9Sh"
      },
      "source": [
        "### One-way ANOVA"
      ]
    },
    {
      "cell_type": "code",
      "execution_count": null,
      "metadata": {
        "colab": {
          "base_uri": "https://localhost:8080/"
        },
        "id": "CQQi4vscstss",
        "outputId": "219fd612-a8c3-4d29-dc4a-2aa079dc559e"
      },
      "outputs": [
        {
          "name": "stdout",
          "output_type": "stream",
          "text": [
            "react_weight \t\t F_onewayResult(statistic=0.20359662839253517, pvalue=0.6543978526418652)\n",
            "proact_weight \t\t F_onewayResult(statistic=0.011879710982276784, pvalue=0.9137807150202768)\n",
            "irrelevant_weight \t F_onewayResult(statistic=0.19120195558940414, pvalue=0.6643932044941273)\n",
            "react_K \t\t F_onewayResult(statistic=0.5912429893931571, pvalue=0.4466918681852291)\n",
            "react_loc \t\t F_onewayResult(statistic=0.07878068740965466, pvalue=0.7804791776477528)\n",
            "react_sigma \t\t F_onewayResult(statistic=0.5583743737563225, pvalue=0.4595150616603978)\n",
            "proact_loc \t\t F_onewayResult(statistic=0.24427035814583015, pvalue=0.6239838475105154)\n",
            "proact_scale \t\t F_onewayResult(statistic=0.545909321460358, pvalue=0.46453347445874127)\n"
          ]
        }
      ],
      "source": [
        "print(\"react_weight \\t\\t\", stats.f_oneway(react_weight[:,0], react_weight[:,1]))\n",
        "print(\"proact_weight \\t\\t\", stats.f_oneway(proact_weight[:,0], proact_weight[:,1]))\n",
        "print(\"irrelevant_weight \\t\", stats.f_oneway(irrelevant_weight[:,0], irrelevant_weight[:,1]))\n",
        "print(\"react_K \\t\\t\", stats.f_oneway(react_K[:,0], react_K[:,1]))\n",
        "print(\"react_loc \\t\\t\", stats.f_oneway(react_loc[:,0], react_loc[:,1]))\n",
        "print(\"react_sigma \\t\\t\", stats.f_oneway(react_scale[:,0], react_scale[:,1]))\n",
        "print(\"proact_loc \\t\\t\", stats.f_oneway(proact_loc[:,0], proact_loc[:,1]))\n",
        "print(\"proact_scale \\t\\t\", stats.f_oneway(proact_scale[:,0], proact_scale[:,1]))"
      ]
    },
    {
      "cell_type": "markdown",
      "metadata": {
        "id": "UI4Q346-uZ7v"
      },
      "source": [
        "### Pearson Correlation"
      ]
    },
    {
      "cell_type": "markdown",
      "metadata": {
        "id": "Q6nFHs50vnAf"
      },
      "source": [
        "#### Without Sound"
      ]
    },
    {
      "cell_type": "code",
      "execution_count": null,
      "metadata": {
        "colab": {
          "base_uri": "https://localhost:8080/"
        },
        "id": "2H6XiAfOvh0C",
        "outputId": "e4383872-201f-4478-fc81-05b85ee7f2f9"
      },
      "outputs": [
        {
          "name": "stdout",
          "output_type": "stream",
          "text": [
            "reactiveness \t\t (0.37608442558054084, 0.1022064751159026)\n",
            "proactiveness \t\t (-0.3760844255805412, 0.10220647511590218)\n",
            "react_K \t\t (-0.016632651903725197, 0.9445133230259347)\n",
            "react_loc \t\t (-0.29171970586549767, 0.21204199359059708)\n",
            "react_scale \t\t (0.3531109953401489, 0.12671982005451754)\n",
            "proact_loc \t\t (-0.27924880416775494, 0.23313244067242453)\n",
            "proact_scale \t\t (-0.15439255768528337, 0.5157433759456519)\n"
          ]
        }
      ],
      "source": [
        "print('reactiveness \\t\\t', stats.pearsonr(reactiveness[:,0], y))\n",
        "print('proactiveness \\t\\t', stats.pearsonr(proactiveness[:,0], y))\n",
        "print('react_K \\t\\t', stats.pearsonr(react_K[:,0], y))\n",
        "print('react_loc \\t\\t', stats.pearsonr(react_loc[:,0], y))\n",
        "print('react_scale \\t\\t', stats.pearsonr(react_scale[:,0], y))\n",
        "print('proact_loc \\t\\t', stats.pearsonr(proact_loc[:,0], y))\n",
        "print('proact_scale \\t\\t', stats.pearsonr(proact_scale[:,0], y))"
      ]
    },
    {
      "cell_type": "markdown",
      "metadata": {
        "id": "dKJBCmxpv9qH"
      },
      "source": [
        "#### With Sound"
      ]
    },
    {
      "cell_type": "code",
      "execution_count": null,
      "metadata": {
        "colab": {
          "base_uri": "https://localhost:8080/"
        },
        "id": "kh43LT0lvwoQ",
        "outputId": "f1cb1c0e-4440-48ad-c9e4-6fbf61658d66"
      },
      "outputs": [
        {
          "name": "stdout",
          "output_type": "stream",
          "text": [
            "reactiveness \t\t (0.36241992247937976, 0.11632959765442456)\n",
            "proactiveness \t\t (-0.3624199224793797, 0.1163295976544245)\n",
            "react_K* \t\t (-0.16712464768473584, 0.4812728883826179)\n",
            "react_loc \t\t (-0.19655440615649775, 0.40621867094916086)\n",
            "react_scale* \t\t (-0.39121978423846104, 0.0880657079993724)\n",
            "proact_loc* \t\t (0.451516169007354, 0.045673644450471326)\n",
            "proact_scale* \t\t (-0.6937005723907596, 0.0006932217191621974)\n"
          ]
        }
      ],
      "source": [
        "print('reactiveness \\t\\t', stats.pearsonr(reactiveness[:,1], y))\n",
        "print('proactiveness \\t\\t', stats.pearsonr(proactiveness[:,1], y))\n",
        "print('react_K* \\t\\t', stats.pearsonr(react_K[:,1], y))\n",
        "print('react_loc \\t\\t', stats.pearsonr(react_loc[:,1], y))\n",
        "print('react_scale* \\t\\t', stats.pearsonr(react_scale[:,1], y))\n",
        "print('proact_loc* \\t\\t', stats.pearsonr(proact_loc[:,1], y))\n",
        "print('proact_scale* \\t\\t', stats.pearsonr(proact_scale[:,1], y))"
      ]
    }
  ],
  "metadata": {
    "colab": {
      "collapsed_sections": [],
      "name": "React-Proact Study1",
      "provenance": []
    },
    "kernelspec": {
      "display_name": "Python 3",
      "name": "python3"
    },
    "language_info": {
      "codemirror_mode": {
        "name": "ipython",
        "version": 3
      },
      "file_extension": ".py",
      "mimetype": "text/x-python",
      "name": "python",
      "nbconvert_exporter": "python",
      "pygments_lexer": "ipython3",
      "version": "3.9.12"
    }
  },
  "nbformat": 4,
  "nbformat_minor": 0
}
