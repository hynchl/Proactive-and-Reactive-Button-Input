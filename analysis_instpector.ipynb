{
  "cells": [
    {
      "cell_type": "code",
      "execution_count": 7,
      "metadata": {
        "colab": {
          "base_uri": "https://localhost:8080/"
        },
        "id": "ZVlZ_2WSHB78",
        "outputId": "e3a7c477-0283-4848-bcba-f707089f8849"
      },
      "outputs": [],
      "source": [
        "import h5py\n",
        "import numpy as np\n",
        "import matplotlib.pyplot as plt\n",
        "from scipy.stats import norm, exponnorm\n",
        "from util.em import irrelevant_gen\n",
        "\n",
        "BASE_OUTPUT = './output'\n",
        "BASE_DATA = './data'"
      ]
    },
    {
      "cell_type": "code",
      "execution_count": 8,
      "metadata": {
        "id": "xILBp3a8U3cI"
      },
      "outputs": [],
      "source": [
        "def align_button_interval(button_interval):\n",
        "    bi_aligned = np.concatenate(((button_interval/2), -(button_interval/2)))\n",
        "    bi_aligned.sort()\n",
        "    return bi_aligned\n",
        "\n",
        "def get_pixel_ioi(data, x, y):\n",
        "    T = data[:, 0]\n",
        "    T_c = data[:, 1]\n",
        "    X = data[:, 2]\n",
        "    Y = data[:, 3]\n",
        "    return T_c[(X==x)&(Y==y)] - T[(X==x)&(Y==y)]"
      ]
    },
    {
      "cell_type": "markdown",
      "metadata": {
        "id": "RopgZObQHwC1"
      },
      "source": [
        "### Load Result"
      ]
    },
    {
      "cell_type": "code",
      "execution_count": null,
      "metadata": {
        "id": "oU7u53UqHO3i"
      },
      "outputs": [],
      "source": [
        "# DINO\n",
        "PID = 1\n",
        "VERSION = '21080616'\n",
        "KEY = 'space'\n",
        "path = f\"{BASE_OUTPUT}/S{200+PID}_{'space'}_{VERSION}.hdf5\"\n",
        "f = h5py.File(path, 'r')\n",
        "dino_w = f['w']\n",
        "dino_p = f['p']\n",
        "\n",
        "# # TABSONIC\n",
        "PID = 1\n",
        "VERSION = '21080616'\n",
        "KEY = 'all'\n",
        "path = f\"{BASE_OUTPUT}/S{200+PID}_{'O'}_{'all'}_{VERSION}.hdf5\"\n",
        "f = h5py.File(path, 'r')\n",
        "tabsonic_w = f['w']\n",
        "tabsonic_p = f['p']\n",
        "\n",
        "# ET\n",
        "PID = 1\n",
        "VERSION = '21080616'\n",
        "KEY = 'all'\n",
        "path = f\"{BASE_OUTPUT}/S{100+PID}_{32}_{VERSION}.hdf5\"\n",
        "f = h5py.File(path, 'r')\n",
        "et_w = f['w']\n",
        "et_p = f['p']"
      ]
    },
    {
      "cell_type": "markdown",
      "metadata": {
        "id": "X9EXy1KvJEYo"
      },
      "source": [
        "### Load Data"
      ]
    },
    {
      "cell_type": "code",
      "execution_count": 8,
      "metadata": {
        "id": "U-dmVhRfItqG"
      },
      "outputs": [],
      "source": [
        "path = f\"{BASE_DATA}/S{200+PID}_{'space'}.hdf5\"\n",
        "f = h5py.File(path, 'r')\n",
        "dino_ioi = h5py.File(path, 'r')['data'][:,:4]\n",
        "dino_t_input = np.unique(dino_ioi[:,1])\n",
        "dino_bi = align_button_interval(dino_t_input[1:] - dino_t_input[:-1])\n",
        "dino_irr = irrelevant_gen(dino_bi)"
      ]
    },
    {
      "cell_type": "code",
      "execution_count": 7,
      "metadata": {
        "id": "ht0iGZ7VUvnw"
      },
      "outputs": [],
      "source": [
        "tabsonic_ioi = None\n",
        "tabsonic_bi = None\n",
        "for i, m in enumerate(['B', 'A', 'C', 'D', 'E']):\n",
        "  path = f\"{BASE_DATA}/S{200+PID}_{m}O_all.hdf5\"\n",
        "  _tabsonic_ioi = h5py.File(path, 'r')['data'][:,:4]\n",
        "  tabsonic_ioi = np.concatenate([tabsonic_ioi, _tabsonic_ioi]) if type(tabsonic_ioi)==np.array else _tabsonic_ioi\n",
        "  _t_input = np.unique(_tabsonic_ioi[:,1])\n",
        "  _bi = align_button_interval(_t_input[1:] - _t_input[:-1])\n",
        "  tabsonic_bi = np.concatenate([tabsonic_bi, _bi]) if type(tabsonic_bi)==np.array else _bi\n",
        "tabsonic_irr = irrelevant_gen(tabsonic_bi)"
      ]
    },
    {
      "cell_type": "code",
      "execution_count": 4,
      "metadata": {
        "colab": {
          "base_uri": "https://localhost:8080/",
          "height": 282
        },
        "id": "f4GLRA4tWoBf",
        "outputId": "8984a1aa-6992-4c86-b9da-75a0bdb97974"
      },
      "outputs": [],
      "source": [
        "path = f\"{BASE_DATA}/S{100+PID}_{'32'}.hdf5\"\n",
        "et_ioi = h5py.File(path, 'r')['data'][:]\n",
        "et_t_input = np.unique(et_ioi[:,1])\n",
        "et_bi = align_button_interval(et_t_input[1:] - et_t_input[:-1])\n",
        "et_irr = irrelevant_gen(et_bi)"
      ]
    },
    {
      "cell_type": "markdown",
      "metadata": {},
      "source": [
        "## Inspecting Result"
      ]
    },
    {
      "cell_type": "markdown",
      "metadata": {},
      "source": [
        "### Tabsonic"
      ]
    },
    {
      "cell_type": "code",
      "execution_count": null,
      "metadata": {
        "colab": {
          "base_uri": "https://localhost:8080/",
          "height": 323
        },
        "id": "nGYirG9XK_su",
        "outputId": "53d60383-8056-42c4-8e46-69562eb660e7"
      },
      "outputs": [],
      "source": [
        "t = np.arange(-5, 5, 0.01)\n",
        "\n",
        "positions = [(32, 18), (31, 13), (10, 10), (5, 20)]\n",
        "fig = plt.figure(figsize=(9,1.5), dpi=180)\n",
        "axs = fig.subplots(1, 5)\n",
        "\n",
        "ax = axs[0]\n",
        "react_map = tabsonic_w[:,:,0]/(tabsonic_w[:,:,0]+tabsonic_w[:,:,1])\n",
        "ax.imshow(react_map, cmap='coolwarm')\n",
        "ax.scatter([p[0] for p in positions], [p[1] for p in positions], marker='o', facecolors='none', edgecolor='black')\n",
        "\n",
        "\n",
        "for i, position in enumerate(positions):\n",
        "    x, y = position\n",
        "    ax = axs[i+1]\n",
        "    ax.hist(get_pixel_ioi(tabsonic_ioi, x, y), bins=np.arange(-5, 5, 0.03), color='lightgray')\n",
        "    w = tabsonic_w[y, x]\n",
        "    p = tabsonic_p[y, x]\n",
        "    react = exponnorm.pdf(t, K=p[0], loc=p[1], scale=p[2])* w[0]\n",
        "    proact = norm.pdf(t, loc=p[3], scale=p[4]) * w[1]\n",
        "    irrelevance = tabsonic_irr.pdf(t) * w[2]\n",
        "    ax.set_title(f\"({x}, {y})\")\n",
        "\n",
        "    ax_r = ax.twinx()  \n",
        "    ax_r.plot(t, react, color='darkorange')\n",
        "    ax_r.plot(t, proact, color='dodgerblue')\n",
        "    ax_r.plot(t, irrelevance, color='gray')\n",
        "    ax_r.set_ylim(0)\n",
        "    ax.set_xlim(-2.5, 2.5)\n",
        "plt.tight_layout(pad=0.0)\n",
        "plt.show()\n"
      ]
    },
    {
      "cell_type": "markdown",
      "metadata": {},
      "source": [
        "### Dino"
      ]
    },
    {
      "cell_type": "code",
      "execution_count": null,
      "metadata": {
        "id": "3Uj2SGG-q5Px"
      },
      "outputs": [],
      "source": [
        "t = np.arange(-5, 5, 0.01)\n",
        "\n",
        "positions = [(25, 19), (10, 19), (45, 19), (10, 10)]\n",
        "fig = plt.figure(figsize=(9,1.5), dpi=180)\n",
        "axs = fig.subplots(1, 5)\n",
        "\n",
        "ax = axs[0]\n",
        "react_map = dino_w[:,:,0]/(dino_w[:,:,0]+dino_w[:,:,1])\n",
        "ax.imshow(react_map, cmap='coolwarm')\n",
        "ax.scatter([p[0] for p in positions], [p[1] for p in positions], marker='o', facecolors='none', edgecolor='black')\n",
        "\n",
        "\n",
        "for i, position in enumerate(positions):\n",
        "    x, y = position\n",
        "    ax = axs[i+1]\n",
        "    ax.hist(get_pixel_ioi(dino_ioi, x, y), bins=np.arange(-5, 5, 0.03), color='lightgray')\n",
        "    w = dino_w[y, x]\n",
        "    p = dino_p[y, x]\n",
        "    react = exponnorm.pdf(t, K=p[0], loc=p[1], scale=p[2])* w[0]\n",
        "    proact = norm.pdf(t, loc=p[3], scale=p[4]) * w[1]\n",
        "    irrelevance = dino_irr.pdf(t) * w[2]\n",
        "    ax.set_title(f\"({x}, {y})\")\n",
        "\n",
        "    ax_r = ax.twinx()  \n",
        "    ax_r.plot(t, react, color='darkorange')\n",
        "    ax_r.plot(t, proact, color='dodgerblue')\n",
        "    ax_r.plot(t, irrelevance, color='gray')\n",
        "    ax_r.set_ylim(0)\n",
        "    ax.set_xlim(-2.5, 2.5)\n",
        "plt.tight_layout(pad=0.0)\n",
        "plt.show()\n"
      ]
    },
    {
      "cell_type": "markdown",
      "metadata": {},
      "source": [
        "### Expanding Target"
      ]
    },
    {
      "cell_type": "code",
      "execution_count": null,
      "metadata": {},
      "outputs": [],
      "source": [
        "t = np.arange(-5, 5, 0.01)\n",
        "positions = [(35, 17), (26, 17), (28, 28), (49, 17)]\n",
        "task_w = et_w\n",
        "task_p = et_p\n",
        "task_irr = et_irr\n",
        "task_ioi = et_ioi\n",
        "fig = plt.figure(figsize=(9,1.2), dpi=180)\n",
        "axs = fig.subplots(1, 5)\n",
        "\n",
        "ax = axs[0]\n",
        "ax.set_xticks([])\n",
        "ax.set_yticks([])\n",
        "react_map = task_w[:,:,0]/(task_w[:,:,0]+task_w[:,:,1])\n",
        "ax.imshow(react_map, cmap='coolwarm')\n",
        "ax.scatter([p[0] for p in positions], [p[1] for p in positions], marker='o', facecolors='none', edgecolor='black')\n",
        "for i, pos in enumerate(positions):\n",
        "    ax.text(pos[0], pos[1]-1.5, \"*\"*(i+1), fontsize=7, ha='center')\n",
        "\n",
        "for i, position in enumerate(positions):\n",
        "    x, y = position\n",
        "    ax = axs[i+1]\n",
        "    ax.hist(get_pixel_ioi(task_ioi, x, y), bins=np.arange(-5, 5, 0.03), color='lightgray')\n",
        "    w = task_w[y, x]\n",
        "    p = task_p[y, x]\n",
        "    react = exponnorm.pdf(t, K=p[0], loc=p[1], scale=p[2])* w[0]\n",
        "    proact = norm.pdf(t, loc=p[3], scale=p[4]) * w[1]\n",
        "    irrelevance = task_irr.pdf(t) * w[2]\n",
        "    sum_pdf = react + proact + irrelevance\n",
        "    ax.set_title(f\"({x}, {y})\", fontsize=8)\n",
        "\n",
        "    ax_r = ax.twinx()  \n",
        "    ax_r.plot(t, react, color='darkorange')\n",
        "    ax_r.plot(t, proact, color='dodgerblue')\n",
        "    ax_r.plot(t, irrelevance, color='gray')\n",
        "    ax_r.set_ylim(0)\n",
        "    ax.set_xlim(-2.5, 2.5)\n",
        "    ax.set_xticks([-2.5, 0, 2.5])\n",
        "    plt.setp(ax_r.get_yticklabels(), fontsize=7)\n",
        "    plt.setp(ax.get_yticklabels(), fontsize=7)\n",
        "    plt.setp(ax.get_xticklabels(), fontsize=7)\n",
        "\n",
        "plt.tight_layout(pad=0.0)\n",
        "plt.savefig(\"sample_et.png\")\n",
        "plt.show()"
      ]
    },
    {
      "cell_type": "code",
      "execution_count": null,
      "metadata": {},
      "outputs": [],
      "source": []
    }
  ],
  "metadata": {
    "colab": {
      "collapsed_sections": [],
      "name": "React-Proact Sample.ipynb",
      "provenance": []
    },
    "interpreter": {
      "hash": "8f1cd4f930fefd794240f98ced4077dae5dc5c5335fd2b8fec31b5ab974f2186"
    },
    "kernelspec": {
      "display_name": "Python 3.7.11 64-bit ('ta': conda)",
      "name": "python3"
    },
    "language_info": {
      "codemirror_mode": {
        "name": "ipython",
        "version": 3
      },
      "file_extension": ".py",
      "mimetype": "text/x-python",
      "name": "python",
      "nbconvert_exporter": "python",
      "pygments_lexer": "ipython3",
      "version": "3.9.12"
    }
  },
  "nbformat": 4,
  "nbformat_minor": 2
}
