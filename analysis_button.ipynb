{
 "cells": [
  {
   "cell_type": "code",
   "execution_count": 2,
   "metadata": {},
   "outputs": [],
   "source": [
    "import numpy as np\n",
    "from util import data\n",
    "from key_preprocessing import get_key_down, extract_key_pressed"
   ]
  },
  {
   "cell_type": "markdown",
   "metadata": {},
   "source": [
    "### Dino: Button Intervals"
   ]
  },
  {
   "cell_type": "code",
   "execution_count": 65,
   "metadata": {},
   "outputs": [
    {
     "name": "stdout",
     "output_type": "stream",
     "text": [
      "id len mean std\n",
      "S201 551 1.165666752728549 0.5482620863773333\n",
      "S202 586 1.027265134632078 0.5729237726700143\n",
      "S203 479 1.2776136966928777 0.7981666704024082\n",
      "S204 501 1.2152327575683595 0.6665132915591707\n",
      "S205 539 1.1314746766285382 0.6017828159528881\n",
      "S206 552 1.1923468264391115 0.6387072165573212\n",
      "S207 528 1.1785889056421095 0.5740561556639121\n",
      "S208 505 1.1881951557265387 0.6878242939587553\n",
      "S209 634 1.0881780813467257 0.4809721863551856\n",
      "S210 537 1.2071837876270066 0.621864490357509\n",
      "S211 887 1.0355291380031921 0.5246245773841184\n",
      "S212 593 1.1608955594333443 0.6097396828948091\n",
      "S213 607 1.1278055359428079 0.531807562354087\n",
      "S214 517 1.1759689889212912 0.6085929027144924\n",
      "S215 546 1.1994504543619418 0.877681620952186\n",
      "S216 584 1.1048596600521081 0.5566699308364241\n",
      "S217 683 1.0867787763869659 0.5533813743221693\n",
      "S218 643 1.036267243441763 0.39325830968989595\n",
      "S219 809 1.0417908326824112 0.4654248984459549\n",
      "S220 578 1.163170845917647 0.592555692061878\n"
     ]
    }
   ],
   "source": [
    "print('id', 'len', 'mean', 'std')\n",
    "subjects = ['S201','S202','S203','S204','S205','S206','S207','S208','S209','S210',\n",
    "'S211','S212','S213','S214','S215','S216','S217','S218','S219','S220',]\n",
    "button_intervals = np.array([])\n",
    "n_button_inputs = []\n",
    "\n",
    "for s in subjects:\n",
    "    file_name = s +  '_space'\n",
    "    merged_data = data.load(file_name)\n",
    "    button_input = np.unique(merged_data[:,1])\n",
    "    n_button_inputs.append(len(button_interval))\n",
    "    button_interval = button_input[1:] - button_input[:-1]\n",
    "    print(s, len(button_input), button_interval.mean(), button_interval.std())\n",
    "    button_intervals = np.concatenate((button_intervals, button_interval))"
   ]
  },
  {
   "cell_type": "code",
   "execution_count": 66,
   "metadata": {},
   "outputs": [
    {
     "name": "stdout",
     "output_type": "stream",
     "text": [
      "average n_button inputs :  565.75 153.84241125255414\n",
      "button intervals statistics: 1.1313564536720326 0.598363668868942\n"
     ]
    }
   ],
   "source": [
    "print(\"average n_button inputs : \", np.array(n_button_inputs).mean(), np.array(n_button_inputs).std())\n",
    "print(\"button intervals statistics:\", button_intervals.mean(), button_intervals.std())"
   ]
  },
  {
   "cell_type": "markdown",
   "metadata": {},
   "source": [
    "### Tabsonic: Button Intervals"
   ]
  },
  {
   "cell_type": "code",
   "execution_count": 67,
   "metadata": {},
   "outputs": [],
   "source": [
    "\n",
    "pid, sound, key = 'S201', 'O', 'all'\n",
    "file_name = '{}_{}_{}'.format(pid, sound, key)\n",
    "musics = ['A', 'B', 'C', 'D', 'E']\n",
    "\n",
    "button_intervals = np.array([])\n",
    "n_button_inputs = []\n",
    "\n",
    "sound = 'O'\n",
    "for s in subjects:\n",
    "    _n_button_inputs = []\n",
    "    for music in musics:\n",
    "        name = '{}_{}{}_{}'.format(s, music, sound, key)\n",
    "        d = data.load(name)\n",
    "        button_input = np.unique(d[:,1])\n",
    "        _n_button_inputs.append(len(button_input))\n",
    "        button_interval = button_input[1:] - button_input[:-1]\n",
    "        button_intervals = np.concatenate((button_intervals, button_interval))\n",
    "    n_button_inputs.append(_n_button_inputs)\n"
   ]
  },
  {
   "cell_type": "code",
   "execution_count": 68,
   "metadata": {},
   "outputs": [
    {
     "data": {
      "text/plain": [
       "array([1456, 1544, 1452, 1479, 1709, 1459, 1464, 1435, 1486, 1481, 1590,\n",
       "       1468, 1518, 1456, 1459, 1525, 1466, 1466, 1498, 1499])"
      ]
     },
     "execution_count": 68,
     "metadata": {},
     "output_type": "execute_result"
    }
   ],
   "source": [
    "n_button_inputs_per_participants = np.array(n_button_inputs).sum(axis=1)\n",
    "n_button_inputs_per_participants"
   ]
  },
  {
   "cell_type": "code",
   "execution_count": 69,
   "metadata": {},
   "outputs": [
    {
     "name": "stdout",
     "output_type": "stream",
     "text": [
      "average n_button inputs :  1495.5 60.68731333647915\n",
      "button intervals statistics: 0.46058345182515437 0.43147459706971425\n"
     ]
    }
   ],
   "source": [
    "print(\"average n_button inputs : \", n_button_inputs_per_participants.mean(), n_button_inputs_per_participants.std())\n",
    "print(\"button intervals statistics:\", button_intervals.mean(), button_intervals.std())"
   ]
  },
  {
   "cell_type": "code",
   "execution_count": 74,
   "metadata": {},
   "outputs": [],
   "source": [
    "def extract_key_pressed(key_inputs:np.array, key:str):\n",
    "    return np.asarray([(key in key_input.split('/')) for key_input in key_inputs])"
   ]
  },
  {
   "cell_type": "code",
   "execution_count": 71,
   "metadata": {},
   "outputs": [
    {
     "data": {
      "text/plain": [
       "array([1448, 1515, 1448, 1465, 1654, 1437, 1440, 1471, 1491, 1473, 1545,\n",
       "       1471, 1473, 1463, 1461, 1494, 1478, 1504, 1518, 1452])"
      ]
     },
     "execution_count": 71,
     "metadata": {},
     "output_type": "execute_result"
    }
   ],
   "source": [
    "n_button_inputs_per_participants = np.array(n_button_inputs).sum(axis=1)\n",
    "n_button_inputs_per_participants"
   ]
  },
  {
   "cell_type": "code",
   "execution_count": 72,
   "metadata": {},
   "outputs": [
    {
     "name": "stdout",
     "output_type": "stream",
     "text": [
      "average n_button inputs :  1485.05 47.419906157646494\n",
      "button intervals statistics: 0.4608765389523729 0.4039370955125257\n"
     ]
    }
   ],
   "source": [
    "print(\"average n_button inputs : \", np.array(n_button_inputs_per_participants).mean(), np.array(n_button_inputs_per_participants).std())\n",
    "print(\"button intervals statistics:\", button_intervals.mean(), button_intervals.std())"
   ]
  },
  {
   "cell_type": "markdown",
   "metadata": {},
   "source": [
    "#### For each buttons"
   ]
  },
  {
   "cell_type": "code",
   "execution_count": 80,
   "metadata": {},
   "outputs": [],
   "source": [
    "PID = [\"\".join(['S', str(200+i)]) for i in range(1, 21)]\n",
    "MUSIC = ['A', 'B', 'C', 'D', 'E']\n",
    "SOUND = ['O', 'X']\n",
    "KEY = ['s', 'd', 'f', 'j', 'k', 'l']\n",
    "\n",
    "sdfjkl = {'O':[], 'X':[]}\n",
    "for sound in SOUND:\n",
    "    for pid in PID:\n",
    "        _sdfjkl = [0,0,0,0,0,0]\n",
    "        for music in MUSIC:        \n",
    "            data = np.loadtxt('rawdata/tabsonic/{}_{}{}.csv'.format(pid, music, sound), delimiter=',', dtype=str)\n",
    "            key_inputs = data[:,3] #get raw data\n",
    "            # new_key_inputs = np.zeros(len(key_inputs)) # create an empty column\n",
    "\n",
    "            for i, k in enumerate(KEY):\n",
    "                # 1. for each key, extract timing at which the target key is down\n",
    "                # 2. update 'new key inputs' after encoding\n",
    "                target_key = extract_key_pressed(key_inputs, k)\n",
    "                target_key_down = get_key_down(target_key)\n",
    "                _sdfjkl[i] += len(target_key_down[target_key_down])\n",
    "        sdfjkl[sound].append(_sdfjkl)   "
   ]
  },
  {
   "cell_type": "code",
   "execution_count": 83,
   "metadata": {},
   "outputs": [
    {
     "name": "stdout",
     "output_type": "stream",
     "text": [
      "mean [ 15.45 580.05 179.3  201.25 571.4   15.1 ]\n",
      "std [10.00737228 16.14767785 11.56330403 11.01759956 17.19418506  9.15368778]\n"
     ]
    }
   ],
   "source": [
    "sound_o = np.array(sdfjkl['O'])\n",
    "print('mean', np.mean(sound_o, axis=0))\n",
    "print('std', np.std(sound_o, axis=0))"
   ]
  },
  {
   "cell_type": "code",
   "execution_count": 85,
   "metadata": {},
   "outputs": [
    {
     "name": "stdout",
     "output_type": "stream",
     "text": [
      "mean [ 13.2  574.4  179.15 200.   566.55  14.45]\n",
      "std [ 8.48292402 13.61396342 10.87784446  9.72625313 14.43078307  8.3933009 ]\n"
     ]
    }
   ],
   "source": [
    "sound_x = np.array(sdfjkl['X'])\n",
    "print('mean', np.mean(sound_x, axis=0))\n",
    "print('std', np.std(sound_x, axis=0))"
   ]
  },
  {
   "cell_type": "markdown",
   "metadata": {},
   "source": [
    "### Expanding Target : Button Inputs"
   ]
  },
  {
   "cell_type": "code",
   "execution_count": 60,
   "metadata": {},
   "outputs": [],
   "source": [
    "P = ['S101','S102','S103','S104','S105','S106','S107','S108','S109','S110','S111','S112']\n",
    "button_intervals = np.array([])\n",
    "n_button_inputs = []\n",
    "for cond in ['10', '11', '12', '20', '21', '22', '30', '31', '32', '40', '41', '42', '20']:\n",
    "    _n_button_inputs = []\n",
    "    for p in P:\n",
    "        if easing == '' and duration == '':\n",
    "            name = p\n",
    "        else:\n",
    "            name = 'et32/{}_{}'.format(p, cond)\n",
    "        d = data.load(name)\n",
    "        button_input = np.unique(d[:,1])\n",
    "        _n_button_inputs.append(len(button_input))\n",
    "        button_interval = button_input[1:] - button_input[:-1]\n",
    "        button_intervals = np.concatenate((button_intervals, button_interval))\n",
    "        if type(merged_data) != type(None):\n",
    "            merged_data = np.vstack([merged_data, d])\n",
    "        else:\n",
    "            merged_data = d\n",
    "    n_button_inputs.append(_n_button_inputs)"
   ]
  },
  {
   "cell_type": "code",
   "execution_count": 61,
   "metadata": {},
   "outputs": [
    {
     "data": {
      "text/plain": [
       "[[59, 55, 52, 57, 61, 54, 54, 57, 57, 60, 54, 59],\n",
       " [55, 55, 51, 54, 53, 56, 58, 56, 52, 58, 60, 55],\n",
       " [52, 55, 52, 56, 55, 54, 56, 55, 58, 56, 56, 58],\n",
       " [55, 51, 55, 52, 55, 57, 54, 57, 58, 60, 56, 54],\n",
       " [57, 55, 55, 59, 56, 56, 57, 55, 57, 53, 57, 57],\n",
       " [53, 57, 49, 57, 58, 55, 58, 55, 59, 54, 59, 54],\n",
       " [58, 52, 53, 57, 60, 57, 57, 54, 54, 55, 54, 57],\n",
       " [55, 52, 52, 55, 60, 51, 55, 56, 54, 61, 57, 56],\n",
       " [58, 51, 54, 52, 58, 54, 58, 54, 56, 56, 56, 53],\n",
       " [52, 56, 56, 54, 53, 53, 58, 55, 55, 57, 58, 53],\n",
       " [56, 57, 56, 57, 54, 56, 56, 50, 55, 53, 56, 56],\n",
       " [55, 56, 56, 58, 56, 54, 56, 59, 57, 55, 56, 57],\n",
       " [55, 51, 55, 52, 55, 57, 54, 57, 58, 60, 56, 54]]"
      ]
     },
     "execution_count": 61,
     "metadata": {},
     "output_type": "execute_result"
    }
   ],
   "source": [
    "n_button_inputs"
   ]
  },
  {
   "cell_type": "code",
   "execution_count": 62,
   "metadata": {},
   "outputs": [
    {
     "data": {
      "text/plain": [
       "array([56.58333333, 55.25      , 55.25      , 55.33333333, 56.16666667,\n",
       "       55.66666667, 55.66666667, 55.33333333, 55.        , 55.        ,\n",
       "       55.16666667, 56.25      , 55.33333333])"
      ]
     },
     "execution_count": 62,
     "metadata": {},
     "output_type": "execute_result"
    }
   ],
   "source": [
    "n_button_inputs_per_participants = np.array(n_button_inputs).mean(axis=1)\n",
    "n_button_inputs_per_participants"
   ]
  },
  {
   "cell_type": "code",
   "execution_count": 63,
   "metadata": {},
   "outputs": [
    {
     "name": "stdout",
     "output_type": "stream",
     "text": [
      "average n_button inputs :  55.53846153846154 0.4832840211530965\n",
      "button intervals statistics: 2.859256560470669 0.9880206002436713\n"
     ]
    }
   ],
   "source": [
    "print(\"average n_button inputs : \", np.array(n_button_inputs_per_participants).mean(), np.array(n_button_inputs_per_participants).std())\n",
    "print(\"button intervals statistics:\", button_intervals.mean(), button_intervals.std())"
   ]
  },
  {
   "cell_type": "code",
   "execution_count": null,
   "metadata": {},
   "outputs": [],
   "source": []
  }
 ],
 "metadata": {
  "interpreter": {
   "hash": "ba8667f4ab17fec2bdb6070454cd89f27f3e274278facb85f1446883ce8661a4"
  },
  "kernelspec": {
   "display_name": "Python 3.8.12 64-bit ('ta': conda)",
   "language": "python",
   "name": "python3"
  },
  "language_info": {
   "codemirror_mode": {
    "name": "ipython",
    "version": 3
   },
   "file_extension": ".py",
   "mimetype": "text/x-python",
   "name": "python",
   "nbconvert_exporter": "python",
   "pygments_lexer": "ipython3",
   "version": "3.9.12"
  },
  "orig_nbformat": 4
 },
 "nbformat": 4,
 "nbformat_minor": 2
}
